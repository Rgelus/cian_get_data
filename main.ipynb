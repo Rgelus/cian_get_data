{
 "cells": [
  {
   "cell_type": "code",
   "execution_count": 1,
   "id": "a89a95d1-4e8d-4a23-aa8a-a495e1b2d5d6",
   "metadata": {},
   "outputs": [],
   "source": [
    "import pandas as pd\n",
    "import requests\n",
    "from bs4 import BeautifulSoup"
   ]
  },
  {
   "cell_type": "code",
   "execution_count": 24,
   "id": "a3ebdc30-eb93-4426-8430-2669b652721b",
   "metadata": {},
   "outputs": [],
   "source": [
    "class Flat:\n",
    "    '''\n",
    "    Класс квартиры с её параметрами \n",
    "    '''\n",
    "    def __init__(self, url, **kwargs):\n",
    "        self.url = url\n",
    "        self.price = 0\n",
    "        self.area = 0\n",
    "        self.rooms = 1\n",
    "        self.bathroom = 'не определено'\n",
    "        self.age = 0\n",
    "        self.house_type = 'не определено'\n",
    "        self.description = 'не определено'\n",
    "        self.repair_state = 'не определено'\n",
    "\n",
    "    @property\n",
    "    def area_calc(self):\n",
    "        if self.area == 0: \n",
    "            self.price_sq = 0 \n",
    "        else:\n",
    "            self.price_sq = self.price/self.area\n",
    "\n",
    "\n",
    "    def get_data(self):\n",
    "        soup = BeautifulSoup(requests.get(self.url).text, 'lxml')\n",
    "        \n",
    "        for quote in soup.find_all('div', {\"data-testid\": \"price-amount\"}):\n",
    "            self.price = int(''.join(quote.get_text(strip=True).split()[:-1]))\n",
    "\n",
    "        for quote in soup.find_all('div', {\"data-name\": \"Description\"}):\n",
    "            self.description += quote.get_text(strip=True).replace('\\n', '; ')\n",
    "\n",
    "        param_dict = {}\n",
    "        for quote in soup.find_all('tr', {\"data-name\": \"OfferSummaryInfoItem\"}):\n",
    "            pair = []\n",
    "            for pos in quote.find_all('td', {}):\n",
    "                pair.append(pos.get_text(strip=False))\n",
    "            param_dict[pair[0]] = pair[1]\n",
    "\n",
    "        self.area = param_dict.get('Общая площадь', 0)\n",
    "        self.bathroom = param_dict.get('Санузел', 'не определено')\n",
    "        self.age = param_dict.get('Год постройки', 0)\n",
    "        self.repair_state = param_dict.get('Ремонт', 'не определено')\n",
    "        self.house_type = param_dict.get('Тип дома', 'не определено')\n",
    "        return None\n",
    "        \n",
    "        \n",
    "        \n",
    "        \n",
    "\n",
    "\n",
    "    def to_df(self):\n",
    "        return pd.DataFrame({\n",
    "            'Статус объекта': '+',\n",
    "            'Ссылка на объект недвижимости': self.url,\n",
    "            'Цена': self.price,\n",
    "            'Общая площадь': self.area,\n",
    "            'Цена за квадрат': self.price_sq,\n",
    "            'Число изолированных комнат': self.rooms,\n",
    "            'Санузел': self.bathroom,\n",
    "            'Ближайшее метро': 'названии локации',\n",
    "            'Время в пути до ближайшего метро': 'мин',\n",
    "            'До универа (по всем метро)': 'мин',\n",
    "            'До работы (по всем метро)': 'мин',\n",
    "            'Доступность': 'формула',\n",
    "            'Необходимость ремонта': 'категория',\n",
    "            'Год постройки дома': self.age,\n",
    "            'Тип дома': self.house_type,\n",
    "            'Другой удорожающий фактор (в руб.)': 0,\n",
    "            'Расчетная стоимость': 'категория',\n",
    "            'Необходимость ремонта': self.repair_state,\n",
    "            'Полное описание': self.description            \n",
    "        }, index=[0])\n",
    "        \n",
    "    \n",
    "repair_category = {\n",
    "    'Малый косметический': 5000,\n",
    "    'Частичный косметический': 7500,\n",
    "    'Полный косметический': 10000,\n",
    "    'Малый капитальный': 20000,\n",
    "    'Частичный капитальный': 25000,\n",
    "    'Полный капитальный': 35000,\n",
    "}\n",
    "\n",
    "\n",
    "\n",
    "metro_to_me = pd.DataFrame({\n",
    "    'Университет': [],\n",
    "    'Новокузнецкая': [],\n",
    "})\n"
   ]
  },
  {
   "cell_type": "code",
   "execution_count": 25,
   "id": "53663e83-7098-4d72-9994-a0d435eeb11a",
   "metadata": {},
   "outputs": [],
   "source": [
    "# list of urls to cian flat\n",
    "urls = [\n",
    "    'https://www.cian.ru/sale/flat/300940845/'\n",
    "]"
   ]
  },
  {
   "cell_type": "code",
   "execution_count": 26,
   "id": "d05a0b3f-0491-49f7-a57f-0aff10027305",
   "metadata": {},
   "outputs": [],
   "source": [
    "for url in urls:\n",
    "    tmp_flat = Flat(url)\n",
    "    tmp_flat.get_data()\n",
    "\n"
   ]
  },
  {
   "cell_type": "code",
   "execution_count": 27,
   "id": "0a301ade-e6b2-4ecd-8b10-714d30d5db3c",
   "metadata": {},
   "outputs": [
    {
     "ename": "AttributeError",
     "evalue": "'Flat' object has no attribute 'price_sq'",
     "output_type": "error",
     "traceback": [
      "\u001b[1;31m---------------------------------------------------------------------------\u001b[0m",
      "\u001b[1;31mAttributeError\u001b[0m                            Traceback (most recent call last)",
      "Cell \u001b[1;32mIn[27], line 1\u001b[0m\n\u001b[1;32m----> 1\u001b[0m tmp_flat\u001b[38;5;241m.\u001b[39mto_df()\n",
      "Cell \u001b[1;32mIn[24], line 58\u001b[0m, in \u001b[0;36mFlat.to_df\u001b[1;34m(self)\u001b[0m\n\u001b[0;32m     52\u001b[0m \u001b[38;5;28;01mdef\u001b[39;00m \u001b[38;5;21mto_df\u001b[39m(\u001b[38;5;28mself\u001b[39m):\n\u001b[0;32m     53\u001b[0m     \u001b[38;5;28;01mreturn\u001b[39;00m pd\u001b[38;5;241m.\u001b[39mDataFrame({\n\u001b[0;32m     54\u001b[0m         \u001b[38;5;124m'\u001b[39m\u001b[38;5;124mСтатус объекта\u001b[39m\u001b[38;5;124m'\u001b[39m: \u001b[38;5;124m'\u001b[39m\u001b[38;5;124m+\u001b[39m\u001b[38;5;124m'\u001b[39m,\n\u001b[0;32m     55\u001b[0m         \u001b[38;5;124m'\u001b[39m\u001b[38;5;124mСсылка на объект недвижимости\u001b[39m\u001b[38;5;124m'\u001b[39m: \u001b[38;5;28mself\u001b[39m\u001b[38;5;241m.\u001b[39murl,\n\u001b[0;32m     56\u001b[0m         \u001b[38;5;124m'\u001b[39m\u001b[38;5;124mЦена\u001b[39m\u001b[38;5;124m'\u001b[39m: \u001b[38;5;28mself\u001b[39m\u001b[38;5;241m.\u001b[39mprice,\n\u001b[0;32m     57\u001b[0m         \u001b[38;5;124m'\u001b[39m\u001b[38;5;124mОбщая площадь\u001b[39m\u001b[38;5;124m'\u001b[39m: \u001b[38;5;28mself\u001b[39m\u001b[38;5;241m.\u001b[39marea,\n\u001b[1;32m---> 58\u001b[0m         \u001b[38;5;124m'\u001b[39m\u001b[38;5;124mЦена за квадрат\u001b[39m\u001b[38;5;124m'\u001b[39m: \u001b[38;5;28mself\u001b[39m\u001b[38;5;241m.\u001b[39mprice_sq,\n\u001b[0;32m     59\u001b[0m         \u001b[38;5;124m'\u001b[39m\u001b[38;5;124mЧисло изолированных комнат\u001b[39m\u001b[38;5;124m'\u001b[39m: \u001b[38;5;28mself\u001b[39m\u001b[38;5;241m.\u001b[39mrooms,\n\u001b[0;32m     60\u001b[0m         \u001b[38;5;124m'\u001b[39m\u001b[38;5;124mСанузел\u001b[39m\u001b[38;5;124m'\u001b[39m: \u001b[38;5;28mself\u001b[39m\u001b[38;5;241m.\u001b[39mbathroom,\n\u001b[0;32m     61\u001b[0m         \u001b[38;5;124m'\u001b[39m\u001b[38;5;124mБлижайшее метро\u001b[39m\u001b[38;5;124m'\u001b[39m: \u001b[38;5;124m'\u001b[39m\u001b[38;5;124mназвании локации\u001b[39m\u001b[38;5;124m'\u001b[39m,\n\u001b[0;32m     62\u001b[0m         \u001b[38;5;124m'\u001b[39m\u001b[38;5;124mВремя в пути до ближайшего метро\u001b[39m\u001b[38;5;124m'\u001b[39m: \u001b[38;5;124m'\u001b[39m\u001b[38;5;124mмин\u001b[39m\u001b[38;5;124m'\u001b[39m,\n\u001b[0;32m     63\u001b[0m         \u001b[38;5;124m'\u001b[39m\u001b[38;5;124mДо универа (по всем метро)\u001b[39m\u001b[38;5;124m'\u001b[39m: \u001b[38;5;124m'\u001b[39m\u001b[38;5;124mмин\u001b[39m\u001b[38;5;124m'\u001b[39m,\n\u001b[0;32m     64\u001b[0m         \u001b[38;5;124m'\u001b[39m\u001b[38;5;124mДо работы (по всем метро)\u001b[39m\u001b[38;5;124m'\u001b[39m: \u001b[38;5;124m'\u001b[39m\u001b[38;5;124mмин\u001b[39m\u001b[38;5;124m'\u001b[39m,\n\u001b[0;32m     65\u001b[0m         \u001b[38;5;124m'\u001b[39m\u001b[38;5;124mДоступность\u001b[39m\u001b[38;5;124m'\u001b[39m: \u001b[38;5;124m'\u001b[39m\u001b[38;5;124mформула\u001b[39m\u001b[38;5;124m'\u001b[39m,\n\u001b[0;32m     66\u001b[0m         \u001b[38;5;124m'\u001b[39m\u001b[38;5;124mНеобходимость ремонта\u001b[39m\u001b[38;5;124m'\u001b[39m: \u001b[38;5;124m'\u001b[39m\u001b[38;5;124mкатегория\u001b[39m\u001b[38;5;124m'\u001b[39m,\n\u001b[0;32m     67\u001b[0m         \u001b[38;5;124m'\u001b[39m\u001b[38;5;124mГод постройки дома\u001b[39m\u001b[38;5;124m'\u001b[39m: \u001b[38;5;28mself\u001b[39m\u001b[38;5;241m.\u001b[39mage,\n\u001b[0;32m     68\u001b[0m         \u001b[38;5;124m'\u001b[39m\u001b[38;5;124mТип дома\u001b[39m\u001b[38;5;124m'\u001b[39m: \u001b[38;5;28mself\u001b[39m\u001b[38;5;241m.\u001b[39mhouse_type,\n\u001b[0;32m     69\u001b[0m         \u001b[38;5;124m'\u001b[39m\u001b[38;5;124mДругой удорожающий фактор (в руб.)\u001b[39m\u001b[38;5;124m'\u001b[39m: \u001b[38;5;241m0\u001b[39m,\n\u001b[0;32m     70\u001b[0m         \u001b[38;5;124m'\u001b[39m\u001b[38;5;124mРасчетная стоимость\u001b[39m\u001b[38;5;124m'\u001b[39m: \u001b[38;5;124m'\u001b[39m\u001b[38;5;124mкатегория\u001b[39m\u001b[38;5;124m'\u001b[39m,\n\u001b[0;32m     71\u001b[0m         \u001b[38;5;124m'\u001b[39m\u001b[38;5;124mНеобходимость ремонта\u001b[39m\u001b[38;5;124m'\u001b[39m: \u001b[38;5;28mself\u001b[39m\u001b[38;5;241m.\u001b[39mrepair_state,\n\u001b[0;32m     72\u001b[0m         \u001b[38;5;124m'\u001b[39m\u001b[38;5;124mПолное описание\u001b[39m\u001b[38;5;124m'\u001b[39m: \u001b[38;5;28mself\u001b[39m\u001b[38;5;241m.\u001b[39mdescription            \n\u001b[0;32m     73\u001b[0m     }, index\u001b[38;5;241m=\u001b[39m[\u001b[38;5;241m0\u001b[39m])\n",
      "\u001b[1;31mAttributeError\u001b[0m: 'Flat' object has no attribute 'price_sq'"
     ]
    }
   ],
   "source": [
    "tmp_flat.to_df()"
   ]
  },
  {
   "cell_type": "code",
   "execution_count": 82,
   "id": "d024461e-b3c7-49d3-b5c5-82556e122d99",
   "metadata": {},
   "outputs": [
    {
     "data": {
      "text/plain": [
       "{'Тип жилья': 'Вторичка',\n",
       " 'Общая площадь': '39,1',\n",
       " 'Жилая площадь': '17',\n",
       " 'Площадь кухни': '14',\n",
       " 'Санузел': '1 совмещенный',\n",
       " 'Вид из окон': 'На улицу',\n",
       " 'Ремонт': 'Евроремонт',\n",
       " 'Год постройки': '1977',\n",
       " 'Строительная серия': 'II-29',\n",
       " 'Количество лифтов': '1 пассажирский, 1 грузовой',\n",
       " 'Тип дома': 'Блочный',\n",
       " 'Тип перекрытий': 'Нет информации',\n",
       " 'Подъезды': '4',\n",
       " 'Отопление': 'Центральное',\n",
       " 'Аварийность': 'Нет'}"
      ]
     },
     "execution_count": 82,
     "metadata": {},
     "output_type": "execute_result"
    }
   ],
   "source": [
    "param_dict = {}\n",
    "for quote in soup.find_all('tr', {\"data-name\": \"OfferSummaryInfoItem\"}):\n",
    "    pair = []\n",
    "    for pos in quote.find_all('td', {}):\n",
    "        pair.append(pos.get_text(strip=False))\n",
    "    param_dict[pair[0]] = pair[1]\n",
    "    \n",
    "param_dict"
   ]
  },
  {
   "cell_type": "code",
   "execution_count": 64,
   "id": "6bbfbcee-cd70-4901-8ede-47e27c97d000",
   "metadata": {},
   "outputs": [
    {
     "data": {
      "text/plain": [
       "{'Пролетарская': '4', 'Крестьянская застава': '5', 'Марксистская': '12'}"
      ]
     },
     "execution_count": 64,
     "metadata": {},
     "output_type": "execute_result"
    }
   ],
   "source": [
    "metro_dist = {}\n",
    "for quote in soup.find_all('li', {\"data-name\": \"UndergroundItem\"}):\n",
    "    metro_dist[quote.find_all('a', {})[0].get_text(strip=False)] = quote.find_all('span', {})[1].get_text(strip=False).split()[0]  \n",
    "\n",
    "metro_dist"
   ]
  },
  {
   "cell_type": "code",
   "execution_count": 70,
   "id": "e1048801-2287-43b9-b81f-f77a7b799be7",
   "metadata": {},
   "outputs": [
    {
     "data": {
      "text/plain": [
       "'Арт. 63640560 Центральный район Москвы, до Кремля 15 мин на транспорте.; ; О квартире:; евроремонт; мебель остается; огороженная территория дома; О районе:; центральный район г. Москвы; развитая инфраструктура, во дворе школа с углубленным изучением ряда предметов, Таганский парк, музыкальная школа, магазины; м. Пролетарская, м. Таганская, м. Крестьянская застава, м. Марксистская; расположен к востоку и юго-востоку от исторического центра города - Зарядья и Китай - города, по левому берегу реки Москвы; ; О документах:; 1 собственник ; Приватизированная квартира от 19.09.2007г.; ; ЗВОНИТЕ И ЗАПИСЫВАЙТЕСЬ НА ПРОСМОТР!!!  ПРОСМОТРЫ приостановлены до 16.06.2024г.'"
      ]
     },
     "execution_count": 70,
     "metadata": {},
     "output_type": "execute_result"
    }
   ],
   "source": [
    "description = ''\n",
    "for quote in soup.find_all('div', {\"data-name\": \"Description\"}):\n",
    "    description += quote.get_text(strip=True).replace('\\n', '; ')\n",
    "\n",
    "description"
   ]
  },
  {
   "cell_type": "code",
   "execution_count": 86,
   "id": "ebfe37fd-1650-474c-b79c-de76a0faf4e0",
   "metadata": {},
   "outputs": [
    {
     "name": "stdout",
     "output_type": "stream",
     "text": [
      "13300000\n"
     ]
    }
   ],
   "source": [
    "price = 0\n",
    "for quote in soup.find_all('div', {\"data-testid\": \"price-amount\"}):\n",
    "    print(''.join(quote.get_text(strip=True).split()[:-1]))"
   ]
  },
  {
   "cell_type": "code",
   "execution_count": 62,
   "id": "25877296-06b1-458c-a2f9-c13910e8dbbb",
   "metadata": {},
   "outputs": [],
   "source": [
    "result_df = pd.DataFrame({})"
   ]
  },
  {
   "cell_type": "code",
   "execution_count": null,
   "id": "73e7e4cf-d400-4931-9aac-b55ba089118c",
   "metadata": {},
   "outputs": [],
   "source": [
    "result_df"
   ]
  }
 ],
 "metadata": {
  "kernelspec": {
   "display_name": "Python 3 (ipykernel)",
   "language": "python",
   "name": "python3"
  },
  "language_info": {
   "codemirror_mode": {
    "name": "ipython",
    "version": 3
   },
   "file_extension": ".py",
   "mimetype": "text/x-python",
   "name": "python",
   "nbconvert_exporter": "python",
   "pygments_lexer": "ipython3",
   "version": "3.11.9"
  }
 },
 "nbformat": 4,
 "nbformat_minor": 5
}
